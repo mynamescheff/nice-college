{
 "cells": [
  {
   "cell_type": "code",
   "execution_count": null,
   "metadata": {},
   "outputs": [],
   "source": [
    "import pandas as pd\n",
    "import numpy as np\n",
    "import matplotlib.pyplot as plt\n",
    "import sklearn as sk\n",
    "import seaborn as sns\n",
    "from sklearn import linear_model"
   ]
  },
  {
   "cell_type": "code",
   "execution_count": null,
   "metadata": {},
   "outputs": [],
   "source": [
    "df_degrees = pd.read_csv('degrees-that-pay-back.csv')\n",
    "df_degrees.head()\n",
    "df_degrees_copy = df_degrees.copy()"
   ]
  },
  {
   "cell_type": "code",
   "execution_count": null,
   "metadata": {},
   "outputs": [],
   "source": [
    "df_college_salaries = pd.read_csv('salaries-by-college-type.csv')\n",
    "df_college_salaries.head()\n",
    "df_college_salaries_copy = df_college_salaries.copy()"
   ]
  },
  {
   "cell_type": "code",
   "execution_count": null,
   "metadata": {},
   "outputs": [],
   "source": [
    "df_region_salaries = pd.read_csv('salaries-by-region.csv')\n",
    "df_region_salaries.head()\n",
    "df_region_salaries_copy = df_region_salaries.copy()"
   ]
  },
  {
   "cell_type": "code",
   "execution_count": null,
   "metadata": {},
   "outputs": [],
   "source": [
    "df_degrees.describe()"
   ]
  },
  {
   "cell_type": "code",
   "execution_count": null,
   "metadata": {},
   "outputs": [],
   "source": [
    "df_degrees.columns"
   ]
  },
  {
   "cell_type": "code",
   "execution_count": null,
   "metadata": {},
   "outputs": [],
   "source": [
    "#unique values from 'Undergraduate Major' column\n",
    "df_degrees['Undergraduate Major'].unique()"
   ]
  },
  {
   "cell_type": "code",
   "execution_count": null,
   "metadata": {},
   "outputs": [],
   "source": [
    "#sort the dataframe by starting median salary ascending\n",
    "df_degrees.sort_values(by=['Starting Median Salary'], inplace=True)"
   ]
  },
  {
   "cell_type": "code",
   "execution_count": null,
   "metadata": {},
   "outputs": [],
   "source": [
    "# convert 'Starting Median Salary' values from string to float\n",
    "df_degrees['Starting Median Salary'] = df_degrees['Starting Median Salary'].str.replace('$','').str.replace(',','').astype(float)\n",
    "# convert 'Starting Median Salary' values from float to integer\n",
    "df_degrees['Starting Median Salary'] = df_degrees['Starting Median Salary'].astype(int)"
   ]
  },
  {
   "cell_type": "code",
   "execution_count": null,
   "metadata": {},
   "outputs": [],
   "source": [
    "#show converted values\n",
    "df_degrees['Starting Median Salary'].head()"
   ]
  },
  {
   "cell_type": "code",
   "execution_count": null,
   "metadata": {},
   "outputs": [],
   "source": [
    "import matplotlib.pyplot as plt\n",
    "import matplotlib.ticker as ticker\n",
    "import seaborn as sns\n",
    "\n",
    "def format_x_axis_labels(x, pos):\n",
    "    return '{:.0f}K'.format(x/1000)\n",
    "\n",
    "# Sort the DataFrame by \"Starting Median Salary\" in ascending order\n",
    "df_degrees_sorted = df_degrees.sort_values(by=\"Starting Median Salary\")\n",
    "\n",
    "# Create the scatterplot\n",
    "sns.set_style(\"whitegrid\")\n",
    "fig, ax = plt.subplots(figsize=(20, 10))\n",
    "sns.scatterplot(x=\"Starting Median Salary\", y=\"Undergraduate Major\", data=df_degrees_sorted, hue=\"Starting Median Salary\", palette=\"viridis\", ax=ax)\n",
    "\n",
    "# Set the X axis label format to show values in overall thousands\n",
    "ax.xaxis.set_major_formatter(ticker.FuncFormatter(format_x_axis_labels))\n",
    "\n",
    "# Invert the y-axis to have lowest paying major at the bottom\n",
    "ax.invert_yaxis()\n",
    "\n",
    "# Show the plot\n",
    "plt.show()"
   ]
  },
  {
   "cell_type": "code",
   "execution_count": null,
   "metadata": {},
   "outputs": [],
   "source": [
    "#show unique values from the df_region_salaries dataframe, from region column\n",
    "df_region_salaries[\"Region\"].unique()"
   ]
  },
  {
   "cell_type": "code",
   "execution_count": null,
   "metadata": {},
   "outputs": [],
   "source": [
    "# Filter the rows where 'Region' is 'California'\n",
    "california_salaries = df_region_salaries[df_region_salaries['Region'] == 'California']\n",
    "\n",
    "# Create a new DataFrame from the filtered results\n",
    "df_california_salaries = california_salaries.copy()\n",
    "\n",
    "df_california_salaries.head()"
   ]
  },
  {
   "cell_type": "code",
   "execution_count": null,
   "metadata": {},
   "outputs": [],
   "source": [
    "# Filter the rows for different regions and create new DataFrames\n",
    "western_salaries = df_region_salaries[df_region_salaries['Region'] == 'Western']\n",
    "midwestern_salaries = df_region_salaries[df_region_salaries['Region'] == 'Midwestern']\n",
    "southern_salaries = df_region_salaries[df_region_salaries['Region'] == 'Southern']\n",
    "northeastern_salaries = df_region_salaries[df_region_salaries['Region'] == 'Northeastern']\n",
    "\n",
    "# Create new DataFrames for each region\n",
    "df_western_salaries = western_salaries.copy()\n",
    "df_midwestern_salaries = midwestern_salaries.copy()\n",
    "df_southern_salaries = southern_salaries.copy()\n",
    "df_northeastern_salaries = northeastern_salaries.copy()"
   ]
  },
  {
   "cell_type": "code",
   "execution_count": null,
   "metadata": {},
   "outputs": [],
   "source": [
    "# Count NaN rows in 'Starting Median Salary' column for each region DataFrame\n",
    "null_count_western = df_western_salaries['Starting Median Salary'].isna().sum()\n",
    "null_count_midwestern = df_midwestern_salaries['Starting Median Salary'].isna().sum()\n",
    "null_count_southern = df_southern_salaries['Starting Median Salary'].isna().sum()\n",
    "null_count_northeastern = df_northeastern_salaries['Starting Median Salary'].isna().sum()\n",
    "null_count_california = df_california_salaries['Starting Median Salary'].isna().sum()\n",
    "\n",
    "print(\"Number of NaN rows in 'Starting Median Salary' column for Western Region:\", null_count_western)\n",
    "print(\"Number of NaN rows in 'Starting Median Salary' column for Midwestern Region:\", null_count_midwestern)\n",
    "print(\"Number of NaN rows in 'Starting Median Salary' column for Southern Region:\", null_count_southern)\n",
    "print(\"Number of NaN rows in 'Starting Median Salary' column for Northeastern Region:\", null_count_northeastern)\n",
    "print(\"Number of NaN rows in 'Starting Median Salary' column for California:\", null_count_california)"
   ]
  },
  {
   "cell_type": "code",
   "execution_count": null,
   "metadata": {},
   "outputs": [],
   "source": [
    "# Data preprocessing steps\n",
    "def preprocess_dataframe(df):\n",
    "    df['Starting Median Salary'] = df['Starting Median Salary'].str.replace('$', '').str.replace(',', '').astype(float)\n",
    "    df['Starting Median Salary'] = df['Starting Median Salary'].astype(int)\n",
    "    return df\n",
    "\n",
    "df_western_salaries = preprocess_dataframe(western_salaries.copy())\n",
    "df_midwestern_salaries = preprocess_dataframe(midwestern_salaries.copy())\n",
    "df_southern_salaries = preprocess_dataframe(southern_salaries.copy())\n",
    "df_northeastern_salaries = preprocess_dataframe(northeastern_salaries.copy())"
   ]
  },
  {
   "cell_type": "code",
   "execution_count": null,
   "metadata": {},
   "outputs": [],
   "source": [
    "# Data preprocessing steps\n",
    "def preprocess_dataframe2(df):\n",
    "    df['Mid-Career Median Salary'] = df['Mid-Career Median Salary'].str.replace('$', '').str.replace(',', '').astype(float)\n",
    "    df['Mid-Career Median Salary'] = df['Mid-Career Median Salary'].astype(int)\n",
    "    return df\n",
    "\n",
    "df_western_salaries = preprocess_dataframe2(western_salaries.copy())\n",
    "df_midwestern_salaries = preprocess_dataframe2(midwestern_salaries.copy())\n",
    "df_southern_salaries = preprocess_dataframe2(southern_salaries.copy())\n",
    "df_northeastern_salaries = preprocess_dataframe2(northeastern_salaries.copy())"
   ]
  },
  {
   "cell_type": "code",
   "execution_count": null,
   "metadata": {},
   "outputs": [],
   "source": [
    "#df_region_salaries_copy to be changed, df_degrees_copy to be changed\n",
    "df_region_salaries_copy['Mid-Career Median Salary'] = df_region_salaries_copy['Mid-Career Median Salary'].str.replace('$', '').str.replace(',', '').astype(float)\n",
    "df_region_salaries_copy['Mid-Career Median Salary'] = df_region_salaries_copy['Mid-Career Median Salary'].astype(int)\n",
    "\n",
    "df_degrees_copy['Mid-Career Median Salary'] = df_degrees_copy['Mid-Career Median Salary'].str.replace('$', '').str.replace(',', '').astype(float)\n",
    "df_degrees_copy['Mid-Career Median Salary'] = df_degrees_copy['Mid-Career Median Salary'].astype(int)\n",
    "\n",
    "df_region_salaries_cop['Starting Median Salary'] = df_region_salaries_copy['Starting Median Salary'].str.replace('$', '').str.replace(',', '').astype(float)\n",
    "df_region_salaries_cop['Starting Median Salary'] = df_region_salaries_copy['Starting Median Salary'].astype(int)\n",
    "\n",
    "df_degrees_copy['Starting Median Salary'] = df_degrees_copy['Starting Median Salary'].str.replace('$', '').str.replace(',', '').astype(float)\n",
    "df_degrees_copy['Starting Median Salary'] = df_degrees_copy['Starting Median Salary'].astype(int)"
   ]
  },
  {
   "cell_type": "code",
   "execution_count": null,
   "metadata": {},
   "outputs": [],
   "source": [
    "region_colors = {\n",
    "    'Western': 'blue',\n",
    "    'Midwestern': 'green',\n",
    "    'Southern': 'red',\n",
    "    'Northeastern': 'purple'\n",
    "}\n",
    "\n",
    "# Create the scatterplot\n",
    "plt.figure(figsize=(10, 6))\n",
    "for region, color in region_colors.items():\n",
    "    region_data = df_region_salaries_copy[all_salaries['Region'] == region]\n",
    "    plt.scatter(region_data.index, region_data['Starting Median Salary'], label=region, color=color)\n",
    "\n",
    "plt.ylabel('Starting Median Salary ($)')\n",
    "plt.title('Starting Median Salary by Region')\n",
    "plt.legend()\n",
    "\n",
    "# Customize y-axis ticks\n",
    "min_salary = all_salaries['Starting Median Salary'].min()\n",
    "max_salary = all_salaries['Starting Median Salary'].max()\n",
    "plt.yticks(range(min_salary, max_salary + 1, 5000))\n",
    "\n",
    "# Remove x-axis ticks and labels\n",
    "plt.xticks([])\n",
    "\n",
    "plt.grid(True)\n",
    "plt.show()"
   ]
  },
  {
   "cell_type": "code",
   "execution_count": null,
   "metadata": {},
   "outputs": [],
   "source": []
  }
 ],
 "metadata": {
  "kernelspec": {
   "display_name": "base",
   "language": "python",
   "name": "python3"
  },
  "language_info": {
   "codemirror_mode": {
    "name": "ipython",
    "version": 3
   },
   "file_extension": ".py",
   "mimetype": "text/x-python",
   "name": "python",
   "nbconvert_exporter": "python",
   "pygments_lexer": "ipython3",
   "version": "3.9.13"
  },
  "orig_nbformat": 4
 },
 "nbformat": 4,
 "nbformat_minor": 2
}
